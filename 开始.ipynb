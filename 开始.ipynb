{
 "cells": [
  {
   "cell_type": "code",
   "execution_count": 1,
   "metadata": {},
   "outputs": [
    {
     "name": "stdout",
     "output_type": "stream",
     "text": [
      "Counter({1: 3, 2: 2, 3: 1})\n"
     ]
    }
   ],
   "source": [
    "a=[1,1,1,2,2,3]\n",
    "from collections import Counter\n",
    "print (Counter(a))"
   ]
  },
  {
   "cell_type": "code",
   "execution_count": 3,
   "metadata": {},
   "outputs": [
    {
     "name": "stdout",
     "output_type": "stream",
     "text": [
      "[(1, 3), (2, 2)]\n"
     ]
    }
   ],
   "source": [
    "print(Counter(a).most_common(2))"
   ]
  },
  {
   "cell_type": "code",
   "execution_count": 2,
   "metadata": {},
   "outputs": [
    {
     "name": "stdout",
     "output_type": "stream",
     "text": [
      "LMY\n",
      "My input is LMY\n"
     ]
    }
   ],
   "source": [
    "a=input()\n",
    "print(\"My input is\",a)"
   ]
  },
  {
   "cell_type": "code",
   "execution_count": 6,
   "metadata": {},
   "outputs": [
    {
     "name": "stdout",
     "output_type": "stream",
     "text": [
      "0.5\n"
     ]
    }
   ],
   "source": [
    "print (1/2)"
   ]
  },
  {
   "cell_type": "code",
   "execution_count": 1,
   "metadata": {},
   "outputs": [
    {
     "name": "stdout",
     "output_type": "stream",
     "text": [
      "Runoob\n",
      "Runoo\n",
      "R\n",
      "noo\n",
      "noob\n",
      "RunoobRunoob\n",
      "Runoob你好\n",
      "------------------------------\n",
      "hello\n",
      "runoob\n",
      "hello\\nrunoob\n"
     ]
    }
   ],
   "source": [
    "str='Runoob'\n",
    "\n",
    "print(str)                 # 输出字符串\n",
    "print(str[0:-1])           # 输出第一个到倒数第二个的所有字符\n",
    "print(str[0])              # 输出字符串第一个字符\n",
    "print(str[2:5])            # 输出从第三个开始到第五个的字符\n",
    "print(str[2:])             # 输出从第三个开始的后的所有字符\n",
    "print(str * 2)             # 输出字符串两次\n",
    "print(str + '你好')        # 连接字符串\n",
    "\n",
    "print('------------------------------')\n",
    "\n",
    "print('hello\\nrunoob')      # 使用反斜杠(\\)+n转义特殊字符\n",
    "print(r'hello\\nrunoob') # 在字符串前面添加一个 r，表示原始字符串，不会发生转义"
   ]
  },
  {
   "cell_type": "code",
   "execution_count": 2,
   "metadata": {},
   "outputs": [
    {
     "name": "stdout",
     "output_type": "stream",
     "text": [
      "\n",
      "\n",
      "按下 enter 键后退出。1234\n"
     ]
    },
    {
     "data": {
      "text/plain": [
       "'1234'"
      ]
     },
     "execution_count": 2,
     "metadata": {},
     "output_type": "execute_result"
    }
   ],
   "source": [
    "input(\"\\n\\n按下 enter 键后退出。\")"
   ]
  },
  {
   "cell_type": "code",
   "execution_count": 3,
   "metadata": {},
   "outputs": [
    {
     "data": {
      "text/plain": [
       "True"
      ]
     },
     "execution_count": 3,
     "metadata": {},
     "output_type": "execute_result"
    }
   ],
   "source": [
    "a=100\n",
    "isinstance(a,int)"
   ]
  },
  {
   "cell_type": "code",
   "execution_count": 4,
   "metadata": {},
   "outputs": [
    {
     "data": {
      "text/plain": [
       "32"
      ]
     },
     "execution_count": 4,
     "metadata": {},
     "output_type": "execute_result"
    }
   ],
   "source": [
    "2**5"
   ]
  },
  {
   "cell_type": "code",
   "execution_count": 5,
   "metadata": {},
   "outputs": [
    {
     "data": {
      "text/plain": [
       "0"
      ]
     },
     "execution_count": 5,
     "metadata": {},
     "output_type": "execute_result"
    }
   ],
   "source": [
    "2//5"
   ]
  },
  {
   "cell_type": "code",
   "execution_count": 7,
   "metadata": {},
   "outputs": [
    {
     "name": "stdout",
     "output_type": "stream",
     "text": [
      "[2, 3, 4, 5]\n",
      "6\n"
     ]
    }
   ],
   "source": [
    "list=[1,2,3,4,5,6]#列表\n",
    "print (list[1:5])\n",
    "print (list[-1])"
   ]
  },
  {
   "cell_type": "code",
   "execution_count": 12,
   "metadata": {},
   "outputs": [
    {
     "name": "stdout",
     "output_type": "stream",
     "text": [
      "drink\n"
     ]
    }
   ],
   "source": [
    "tuple=('eat','drink','sleep')\n",
    "print(tuple[1])#tuple不可修改元组"
   ]
  },
  {
   "cell_type": "code",
   "execution_count": 13,
   "metadata": {},
   "outputs": [
    {
     "name": "stdout",
     "output_type": "stream",
     "text": [
      "{'Jack', 'Rose', 'Jim', 'Tom', 'Mary'}\n",
      "Rose 在集合中\n",
      "{'r', 'c', 'd', 'b', 'a'}\n",
      "{'b', 'r', 'd'}\n",
      "{'r', 'c', 'l', 'd', 'b', 'z', 'm', 'a'}\n",
      "{'c', 'a'}\n",
      "{'b', 'r', 'm', 'z', 'l', 'd'}\n"
     ]
    }
   ],
   "source": [
    "student = {'Tom', 'Jim', 'Mary', 'Tom', 'Jack', 'Rose'}\n",
    " \n",
    "print(student)   # 输出集合，重复的元素被自动去掉\n",
    " \n",
    "# 成员测试\n",
    "if('Rose' in student) :\n",
    "    print('Rose 在集合中')\n",
    "else :\n",
    "    print('Rose 不在集合中')\n",
    " \n",
    " \n",
    "# set可以进行集合运算\n",
    "a = set('abracadabra')\n",
    "b = set('alacazam')\n",
    " \n",
    "print(a)\n",
    " \n",
    "print(a - b)     # a和b的差集\n",
    " \n",
    "print(a | b)     # a和b的并集\n",
    " \n",
    "print(a & b)     # a和b的交集\n",
    " \n",
    "print(a ^ b)     # a和b中不同时存在的元素"
   ]
  },
  {
   "cell_type": "code",
   "execution_count": 14,
   "metadata": {},
   "outputs": [
    {
     "data": {
      "text/plain": [
       "{2: 4, 4: 16, 6: 36}"
      ]
     },
     "execution_count": 14,
     "metadata": {},
     "output_type": "execute_result"
    }
   ],
   "source": [
    "{x:x**2 for x in(2,4,6)}"
   ]
  },
  {
   "cell_type": "code",
   "execution_count": 3,
   "metadata": {},
   "outputs": [
    {
     "name": "stdout",
     "output_type": "stream",
     "text": [
      "dict_keys(['name', 'site', 'code'])\n",
      "dict_values(['runoob', 'www.runoob.com', 1])\n"
     ]
    }
   ],
   "source": [
    "dict=dict({'name': 'runoob', 'site': 'www.runoob.com', 'code': 1})\n",
    "print(dict.keys())\n",
    "print(dict.values())"
   ]
  },
  {
   "cell_type": "code",
   "execution_count": 28,
   "metadata": {},
   "outputs": [
    {
     "data": {
      "text/plain": [
       "8"
      ]
     },
     "execution_count": 28,
     "metadata": {},
     "output_type": "execute_result"
    }
   ],
   "source": [
    "int('10',8)#前面的数字转换为后面的进制"
   ]
  },
  {
   "cell_type": "code",
   "execution_count": 29,
   "metadata": {},
   "outputs": [
    {
     "data": {
      "text/plain": [
       "'\\nis 与 == 区别：\\n\\nis 用于判断两个变量引用对象是否为同一个， == 用于判断引用变量的值是否相等.\\n'"
      ]
     },
     "execution_count": 29,
     "metadata": {},
     "output_type": "execute_result"
    }
   ],
   "source": [
    "\"\"\"\n",
    "is 与 == 区别：\n",
    "\n",
    "is 用于判断两个变量引用对象是否为同一个， == 用于判断引用变量的值是否相等.\n",
    "\"\"\"\n",
    "price + _\n",
    "113.0625\n",
    ">>> round(_, 2)\n",
    "113.06"
   ]
  },
  {
   "cell_type": "code",
   "execution_count": 3,
   "metadata": {},
   "outputs": [
    {
     "name": "stdout",
     "output_type": "stream",
     "text": [
      "-1\n"
     ]
    }
   ],
   "source": [
    "x=2;y=3;print((x>y)-(x<y))"
   ]
  },
  {
   "cell_type": "code",
   "execution_count": 7,
   "metadata": {},
   "outputs": [
    {
     "name": "stdout",
     "output_type": "stream",
     "text": [
      "8\n"
     ]
    }
   ],
   "source": [
    "print(pow(2,3))#2的3次方"
   ]
  },
  {
   "cell_type": "code",
   "execution_count": 8,
   "metadata": {},
   "outputs": [
    {
     "name": "stdout",
     "output_type": "stream",
     "text": [
      "2.0\n"
     ]
    }
   ],
   "source": [
    "print(round(1.99999,2))"
   ]
  },
  {
   "cell_type": "code",
   "execution_count": 11,
   "metadata": {},
   "outputs": [
    {
     "name": "stdout",
     "output_type": "stream",
     "text": [
      "25\n"
     ]
    }
   ],
   "source": [
    "import random\n",
    "print(random.choice(range(100)))#随机选择一个数"
   ]
  },
  {
   "cell_type": "code",
   "execution_count": 4,
   "metadata": {},
   "outputs": [
    {
     "name": "stdout",
     "output_type": "stream",
     "text": [
      "7\n"
     ]
    },
    {
     "data": {
      "text/plain": [
       "'\\nstart -- 指定范围内的开始值，包含在范围内。\\nstop -- 指定范围内的结束值，不包含在范围内。\\nstep -- 指定递增基数。\\n'"
      ]
     },
     "execution_count": 4,
     "metadata": {},
     "output_type": "execute_result"
    }
   ],
   "source": [
    "import random\n",
    "print(random.randrange(1,10,2))\n",
    "\"\"\"\n",
    "start -- 指定范围内的开始值，包含在范围内。\n",
    "stop -- 指定范围内的结束值，不包含在范围内。\n",
    "step -- 指定递增基数。\n",
    "\"\"\""
   ]
  },
  {
   "cell_type": "code",
   "execution_count": 16,
   "metadata": {},
   "outputs": [
    {
     "name": "stdout",
     "output_type": "stream",
     "text": [
      "我叫小明今年10岁!\n"
     ]
    }
   ],
   "source": [
    "print (\"我叫%s今年%d岁!\" % ('小明', 10))"
   ]
  },
  {
   "cell_type": "code",
   "execution_count": 18,
   "metadata": {},
   "outputs": [
    {
     "name": "stdout",
     "output_type": "stream",
     "text": [
      "******************abcd******************\n"
     ]
    }
   ],
   "source": [
    "str='abcd';\n",
    "print(str.center(40,'*'))"
   ]
  },
  {
   "cell_type": "code",
   "execution_count": 5,
   "metadata": {},
   "outputs": [
    {
     "name": "stdout",
     "output_type": "stream",
     "text": [
      "替换 \\t 符号: this is string example....wow!!!\n"
     ]
    }
   ],
   "source": [
    "str = \"this is\\tstring example....wow!!!\"\n",
    "print (\"替换 \\\\t 符号: \" +  str.expandtabs())#expandtabs() 方法把字符串中的 tab 符号('\\t')转为空格，tab 符号('\\t')默认的空格数是 8。"
   ]
  },
  {
   "cell_type": "code",
   "execution_count": 9,
   "metadata": {},
   "outputs": [
    {
     "name": "stdout",
     "output_type": "stream",
     "text": [
      "aBCDeFrGh\n"
     ]
    }
   ],
   "source": [
    "str='AbcdEfRgH'\n",
    "print(str.swapcase())"
   ]
  },
  {
   "cell_type": "code",
   "execution_count": 10,
   "metadata": {},
   "outputs": [
    {
     "name": "stdout",
     "output_type": "stream",
     "text": [
      "th3s 3s str3ng 2x1mpl2....w4w!!!\n"
     ]
    }
   ],
   "source": [
    "intab = \"aeiou\"\n",
    "outtab = \"12345\"\n",
    "trantab = str.maketrans(intab, outtab)   # 制作翻译表\n",
    " \n",
    "str = \"this is string example....wow!!!\"\n",
    "print (str.translate(trantab))"
   ]
  },
  {
   "cell_type": "code",
   "execution_count": 14,
   "metadata": {},
   "outputs": [
    {
     "name": "stdout",
     "output_type": "stream",
     "text": [
      "1,1,2,3,5,8,13,21,34,55,89,144,233,377,610,987,"
     ]
    }
   ],
   "source": [
    "#转换元组tuple(seq)\n",
    "a,b = 0,1\n",
    "while b < 1000:\n",
    "    print(b, end=',')\n",
    "    a, b = b, a+b"
   ]
  },
  {
   "cell_type": "code",
   "execution_count": null,
   "metadata": {},
   "outputs": [],
   "source": []
  }
 ],
 "metadata": {
  "kernelspec": {
   "display_name": "Python 3",
   "language": "python",
   "name": "python3"
  },
  "language_info": {
   "codemirror_mode": {
    "name": "ipython",
    "version": 3
   },
   "file_extension": ".py",
   "mimetype": "text/x-python",
   "name": "python",
   "nbconvert_exporter": "python",
   "pygments_lexer": "ipython3",
   "version": "3.6.4"
  }
 },
 "nbformat": 4,
 "nbformat_minor": 2
}
